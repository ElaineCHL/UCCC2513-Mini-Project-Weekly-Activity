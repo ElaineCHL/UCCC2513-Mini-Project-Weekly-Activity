{
 "cells": [
  {
   "cell_type": "code",
   "execution_count": 5,
   "id": "e8a051f9-7e5f-42e7-a118-2f485e753f7d",
   "metadata": {},
   "outputs": [],
   "source": [
    "import cv2 as cv\n",
    "import numpy as np\n",
    "from utils import display_images, display_images"
   ]
  },
  {
   "cell_type": "code",
   "execution_count": 7,
   "id": "c84e1695-5f65-4f28-ab68-9b7518c024e7",
   "metadata": {},
   "outputs": [],
   "source": [
    "# question 1\n",
    "img = np.random.random((500, 500, 3))\n",
    "img_color = np.array(img * 255).astype(np.uint8)\n",
    "\n",
    "img = np.random.random((500, 500))\n",
    "img_gray = np.array(img * 255).astype(np.uint8)\n",
    "display_images([img_color, img_gray], (\"color\", \"gray\"))"
   ]
  },
  {
   "cell_type": "code",
   "execution_count": 9,
   "id": "509f2bc7-0f95-4d33-89ae-2688d1c1174b",
   "metadata": {},
   "outputs": [],
   "source": [
    "# question 2\n",
    "def crop_grid(img, num_horizontal_grid, num_vertical_grid, line_color):\n",
    "    img_copy = img.copy()\n",
    "\n",
    "    height, width = img.shape[:2]\n",
    "\n",
    "    M, N = height // num_vertical_grid, width // num_horizontal_grid\n",
    "\n",
    "    x1, y1 = 0, 0\n",
    "\n",
    "    for y in range(0, height, M):\n",
    "  \n",
    "        for x in range(0, width, N):\n",
    "\n",
    "            y1 = y + M \n",
    "            x1 = x + N \n",
    "        \n",
    "            if x1>=width and y1>=height:\n",
    "                x1 = width-1\n",
    "                y1 = height-1\n",
    "                tile = img[y:height, x:width]\n",
    "                cv.rectangle(img_copy, (x,y), (x1, y1), line_color, 1)\n",
    "            \n",
    "            elif y1>=height:\n",
    "                y1 = height-1\n",
    "                cv.rectangle(img_copy, (x, y), (x1, y1), line_color, 1)\n",
    "            \n",
    "            elif x1>=width:\n",
    "                x1 = width-1\n",
    "                cv.rectangle(img_copy, (x, y), (x1, y1), line_color, 1)\n",
    "            \n",
    "            else:\n",
    "                cv.rectangle(img_copy, (x, y), (x1, y1), line_color, 1)\n",
    "            \n",
    "    return img_copy"
   ]
  },
  {
   "cell_type": "code",
   "execution_count": 11,
   "id": "7aca6dd0-498c-4978-8f89-307c67d2d92e",
   "metadata": {},
   "outputs": [],
   "source": [
    "img = cv.imread(\"images/boat.jpg\")\n",
    "line_color = (255, 0, 0)\n",
    "num_horizontal_grid = 3\n",
    "num_vertical_grid = 3\n",
    "\n",
    "img_grid = crop_grid(img, num_horizontal_grid, num_vertical_grid, line_color)\n",
    "cv.imshow(\"boat with grids\", img_grid)\n",
    "cv.waitKey(0)\n",
    "cv.destroyAllWindows()"
   ]
  },
  {
   "cell_type": "code",
   "execution_count": 26,
   "id": "eaca68a6-bdb5-4a70-8995-62d63817ffc3",
   "metadata": {},
   "outputs": [],
   "source": [
    "# question 3\n",
    "# 1. by adjusting the v in HSV\n",
    "# 2. using point operations\n",
    "\n",
    "# 1.\n",
    "img = cv.imread(\"images/boat.jpg\")\n",
    "img_hsv = cv.cvtColor(img, cv.COLOR_BGR2HSV)\n",
    "h, s, v = cv.split(img_hsv)\n",
    "\n",
    "v = v.astype(int) + 50\n",
    "v = np.clip(v, 0, 255).astype(np.uint8)\n",
    "\n",
    "img_brighter = cv.merge((h, s, v))\n",
    "img_brighter = cv.cvtColor(img_brighter, cv.COLOR_HSV2BGR)\n",
    "display_images([img, img_brighter], (\"original\", \"brighter\"))\n",
    "\n",
    "# 2.\n",
    "img = cv.imread(\"images/boat.jpg\")\n",
    "img_bright = point_op(img, 0.7, 90)\n",
    "display_images([img, img_bright], (\"original\", \"brighter\"))"
   ]
  },
  {
   "cell_type": "markdown",
   "id": "8595227f-6358-4b44-aa3a-852293d1465a",
   "metadata": {},
   "source": [
    "question 4\n",
    "<br>RGB: used in digital devices\n",
    "<br>HSV: Useful for color based segmentation and brightness adjustment.\n",
    "<br> CIELAB: widely used in industries like printing, textiles, and paint manufacturing for accurate color specification"
   ]
  }
 ],
 "metadata": {
  "kernelspec": {
   "display_name": "Python 3 (ipykernel)",
   "language": "python",
   "name": "python3"
  },
  "language_info": {
   "codemirror_mode": {
    "name": "ipython",
    "version": 3
   },
   "file_extension": ".py",
   "mimetype": "text/x-python",
   "name": "python",
   "nbconvert_exporter": "python",
   "pygments_lexer": "ipython3",
   "version": "3.11.7"
  }
 },
 "nbformat": 4,
 "nbformat_minor": 5
}
