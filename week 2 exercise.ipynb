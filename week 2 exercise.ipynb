{
 "cells": [
  {
   "cell_type": "markdown",
   "id": "503c23f5-2ead-41ae-905a-48e69f64f032",
   "metadata": {},
   "source": [
    "## Exercises\n",
    "1. Find the range of values for each of the following data types:\n",
    "    * `uint8`\n",
    "    * `int8`\n",
    "    * `uint32`\n",
    "    * `int32`\n",
    "2. Try to write a simple custom function to determine whether a given integer is odd or even number.\n",
    "3. Write a simple example code to show that Numpy is more efficient in numerical computation of large arrays of data than equivalent Python list.\n",
    "4. Run the following codes:\n",
    "```python\n",
    "    # create a 1D array\n",
    "    my_arr = np.arange(10)\n",
    "    print(\"Initial my_arr: \", my_arr)\n",
    "    arr_slice = my_arr\n",
    "    print(\"Initial arr_slice: \", arr_slice)\n",
    "\n",
    "    # change the first element of arr_slice\n",
    "    arr_slice[0] = 55\n",
    "\n",
    "    print(\"my_arr: \", my_arr)\n",
    "    print(\"arr_slice: \", arr_slice)\n",
    "```\n",
    "\n",
    "What do you notice? Propose a way to reassign `arr_slice` with new value **without modifying** `my_arr`.\n",
    "\n",
    "5. Create an image as shown as the following with the help of Numpy and matplotlib modules. You can arbitrarily set the dimension of the image and white circular spot at the middle.\n",
    "\n",
    "![image.png](attachment:5d4026b2-6b16-4515-8e03-3065096fa0e8.png)"
   ]
  },
  {
   "cell_type": "code",
   "execution_count": 2,
   "id": "d23dd393-c84a-4ac5-97f9-5b7463e6f4d2",
   "metadata": {},
   "outputs": [],
   "source": [
    "# question 1\n",
    "uint8 = [0, 255]\n",
    "int8 = [-128, 127]\n",
    "uint32 = [0, 4294967295]\n",
    "int32 = [-2147483648, 2147483647]"
   ]
  },
  {
   "cell_type": "code",
   "execution_count": 4,
   "id": "22fc1985-7989-4e83-bce8-134d8462afb9",
   "metadata": {},
   "outputs": [
    {
     "name": "stdout",
     "output_type": "stream",
     "text": [
      "1.1 is not an integer\n",
      "11251234 is even\n",
      "asdf is not an integer\n"
     ]
    }
   ],
   "source": [
    "# question 2\n",
    "def odd_or_even(x):\n",
    "    \"\"\"checks if the given integer input is odd or even\"\"\"\n",
    "    if isinstance(x, int):\n",
    "        if x % 2 == 0:\n",
    "            return \"{} is even\".format(x)\n",
    "    \n",
    "        else:\n",
    "            return \"{} is odd\".format(x)\n",
    "\n",
    "    else:\n",
    "        return \"{} is not an integer\".format(x)\n",
    "\n",
    "print(odd_or_even(1.1))\n",
    "print(odd_or_even(11251234))\n",
    "print(odd_or_even(\"asdf\"))"
   ]
  },
  {
   "cell_type": "code",
   "execution_count": 6,
   "id": "d205bff2-aa94-4613-9f07-0bb000b9da48",
   "metadata": {},
   "outputs": [
    {
     "name": "stdout",
     "output_type": "stream",
     "text": [
      "Time taken using NumPy: 0.003002 seconds\n",
      "Time taken using Python lists: 0.104842 seconds\n"
     ]
    }
   ],
   "source": [
    "# question 3\n",
    "import numpy as np\n",
    "import time\n",
    "\n",
    "# Size of the arrays\n",
    "size = 10**6\n",
    "\n",
    "# Create two large arrays with NumPy\n",
    "array1_np = np.random.rand(size)\n",
    "array2_np = np.random.rand(size)\n",
    "\n",
    "# Create two large lists\n",
    "array1_py = list(array1_np)\n",
    "array2_py = list(array2_np)\n",
    "\n",
    "# Function to add two lists\n",
    "def add_lists(list1, list2):\n",
    "    return [x + y for x, y in zip(list1, list2)]\n",
    "\n",
    "# Timing NumPy addition\n",
    "start_time_np = time.time()\n",
    "result_np = array1_np + array2_np\n",
    "end_time_np = time.time()\n",
    "\n",
    "# Timing Python list addition\n",
    "start_time_py = time.time()\n",
    "result_py = add_lists(array1_py, array2_py)\n",
    "end_time_py = time.time()\n",
    "\n",
    "# Calculate the time taken for each method\n",
    "time_taken_np = end_time_np - start_time_np\n",
    "time_taken_py = end_time_py - start_time_py\n",
    "\n",
    "print(f\"Time taken using NumPy: {time_taken_np:.6f} seconds\")\n",
    "print(f\"Time taken using Python lists: {time_taken_py:.6f} seconds\")\n",
    "\n",
    "# Ensure the results are the same\n",
    "assert np.allclose(result_np, result_py), \"Results are not the same!\"\n"
   ]
  },
  {
   "cell_type": "code",
   "execution_count": 8,
   "id": "dc4bf99b-152d-4ca8-87a2-2925e2616352",
   "metadata": {},
   "outputs": [
    {
     "name": "stdout",
     "output_type": "stream",
     "text": [
      "Initial my_arr:  [0 1 2 3 4 5 6 7 8 9]\n",
      "Initial arr_slice:  [0 1 2 3 4 5 6 7 8 9]\n",
      "my_arr:  [55  1  2  3  4  5  6  7  8  9]\n",
      "arr_slice:  [55  1  2  3  4  5  6  7  8  9]\n",
      "\n",
      "Solution:\n",
      "my_arr1: [100   1   2   3   4   5   6   7   8   9]\n",
      "my_arr: [55  1  2  3  4  5  6  7  8  9]\n"
     ]
    }
   ],
   "source": [
    "# question 4\n",
    "# create a 1D array\n",
    "import numpy as np\n",
    "\n",
    "my_arr = np.arange(10)\n",
    "print(\"Initial my_arr: \", my_arr)\n",
    "arr_slice = my_arr\n",
    "print(\"Initial arr_slice: \", arr_slice)\n",
    "\n",
    "# change the first element of arr_slice\n",
    "arr_slice[0] = 55\n",
    "\n",
    "print(\"my_arr: \", my_arr)\n",
    "print(\"arr_slice: \", arr_slice)\n",
    "\n",
    "# changing the first element of arr_slice will change my_arr too\n",
    "\n",
    "print(\"\\nSolution:\")\n",
    "\n",
    "my_arr1 = my_arr.copy()\n",
    "my_arr1[0] = 100\n",
    "print(\"my_arr1:\", my_arr1)\n",
    "\n",
    "print(\"my_arr:\", my_arr)\n"
   ]
  },
  {
   "cell_type": "code",
   "execution_count": 10,
   "id": "cfa46aa0-4d3d-46aa-b66c-ac050164fd64",
   "metadata": {},
   "outputs": [
    {
     "data": {
      "image/png": "[encoded data removed]",
      "text/plain": [
       "<Figure size 600x600 with 1 Axes>"
      ]
     },
     "metadata": {},
     "output_type": "display_data"
    }
   ],
   "source": [
    "# Question 5\n",
    "import matplotlib.pyplot as plt\n",
    "import matplotlib.patches as patches\n",
    "\n",
    "# Create a new figure\n",
    "fig, ax = plt.subplots()\n",
    "\n",
    "# Set the size of the figure\n",
    "fig.set_size_inches(6, 6)\n",
    "\n",
    "# Add a black square\n",
    "square = patches.Rectangle((0, 0), 1, 1, facecolor='black')\n",
    "ax.add_patch(square)\n",
    "\n",
    "# Add a white circle in the middle\n",
    "circle = patches.Circle((0.5, 0.5), 0.25, facecolor='white')\n",
    "ax.add_patch(circle)\n",
    "\n",
    "# Set the limits of the plot\n",
    "ax.set_xlim(0, 1)\n",
    "ax.set_ylim(0, 1)\n",
    "\n",
    "# Remove axes for better visualization\n",
    "ax.axis('off')\n",
    "\n",
    "# Show the plot\n",
    "plt.show()\n"
   ]
  },
  {
   "cell_type": "code",
   "execution_count": null,
   "id": "83536bf6-e8a6-4f78-9ab4-c2743df6f51d",
   "metadata": {},
   "outputs": [],
   "source": []
  }
 ],
 "metadata": {
  "kernelspec": {
   "display_name": "Python 3 (ipykernel)",
   "language": "python",
   "name": "python3"
  },
  "language_info": {
   "codemirror_mode": {
    "name": "ipython",
    "version": 3
   },
   "file_extension": ".py",
   "mimetype": "text/x-python",
   "name": "python",
   "nbconvert_exporter": "python",
   "pygments_lexer": "ipython3",
   "version": "3.11.7"
  }
 },
 "nbformat": 4,
 "nbformat_minor": 5
}
