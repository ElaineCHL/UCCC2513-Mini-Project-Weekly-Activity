{
 "cells": [
  {
   "cell_type": "code",
   "execution_count": 7,
   "id": "2063722f-5b61-44a9-a5c1-4e07628fc360",
   "metadata": {},
   "outputs": [],
   "source": [
    "import cv2 as cv\n",
    "import numpy as np\n",
    "from utils import display_image, display_images"
   ]
  },
  {
   "cell_type": "code",
   "execution_count": 9,
   "id": "1e53c430-4159-4e90-9423-8c315fd58902",
   "metadata": {},
   "outputs": [],
   "source": [
    "# question 1\n",
    "img = cv.imread(\"images/native-bee.png\")\n",
    "#display_image(\"img\", img)\n",
    "\n",
    "kernel_3by3 = np.array([\n",
    "    [0, -1, 0],\n",
    "    [-1, 5, -1],\n",
    "    [0, -1, 0]\n",
    "])\n",
    "\n",
    "kernel_5by5 = np.full((5, 5), -1)\n",
    "kernel_5by5[2, 2] = 25\n",
    "#print(kernel_5by5)\n",
    "\n",
    "img_1 = cv.filter2D(img, -1, kernel_3by3)\n",
    "img_2 = cv.filter2D(img, -1, kernel_5by5)\n",
    "\n",
    "display_images([img, img_1, img_2], (\"original\", \"3x3\", \"5x5\"))\n",
    "\n",
    "# inference: when larger kernel size is used, image is sharper"
   ]
  },
  {
   "cell_type": "code",
   "execution_count": 11,
   "id": "bd1d94c7-c437-440f-a84d-91e4d475258a",
   "metadata": {},
   "outputs": [],
   "source": [
    "# question 2\n",
    "img = cv.imread(\"images/noise_lena.jpg\")\n",
    "\n",
    "\n",
    "img_gaussian = cv.GaussianBlur(img, (3, 3), 0)\n",
    "img_median = cv.medianBlur(img, 5)\n",
    "img_bilateral = cv.bilateralFilter(img, 9, 500, 500)\n",
    "\n",
    "display_images([img, img_gaussian, img_median, img_bilateral], (\"original\", \"gaussian blur\", \"median blur\", \"bilateral\"))\n",
    "\n",
    "# salt and pepper noise\n",
    "# in this context, median blur is most effective to remove noise but preserves the edges\n",
    "# gaussian blur blur the image uniformly, which made the image less sharp\n",
    "# for bilateral blur, some noise pixels are preserved. because the intensity difference between a noise pixel and its neighbors is very large"
   ]
  },
  {
   "cell_type": "code",
   "execution_count": 15,
   "id": "150c9dee-8f83-47cf-b2ea-fe7d4924f870",
   "metadata": {},
   "outputs": [],
   "source": [
    "# question 3\n",
    "img = cv.imread(\"images/boat.jpg\", 0)\n",
    "\n",
    "_, thresh = cv.threshold(img, 120, 255, cv.THRESH_BINARY_INV | cv.THRESH_OTSU)\n",
    "#display_image(\"thresh\", thresh)\n",
    "contours, _ = cv.findContours(thresh, cv.RETR_EXTERNAL, cv.CHAIN_APPROX_SIMPLE)\n",
    "\n",
    "cnt = contours[0]\n",
    "img_bgr = cv.imread(\"images/boat.jpg\")\n",
    "img_bgr_copy = img_bgr.copy()\n",
    "\n",
    "contour_max_area = max(contours, key=cv.contourArea)\n",
    "\n",
    "cv.drawContours(img_bgr_copy, [contour_max_area], 0, (0, 255, 0), 2, cv.LINE_AA) # image, contours, contourIdx, color[, thickness]\n",
    "\n",
    "#display_image(\"contour\", img_bgr_copy)\n",
    "\n",
    "x, y, w, h = cv.boundingRect(contour_max_area)\n",
    "cv.rectangle(img_bgr, (x, y), (x+w, y+h), (0, 255, 0), 3, cv.LINE_AA)\n",
    "\n",
    "display_image(\"bounding box\", img_bgr)"
   ]
  },
  {
   "cell_type": "code",
   "execution_count": null,
   "id": "96d33f0d-57ea-4d6d-b427-e66bf06c5331",
   "metadata": {},
   "outputs": [],
   "source": []
  }
 ],
 "metadata": {
  "kernelspec": {
   "display_name": "Python 3 (ipykernel)",
   "language": "python",
   "name": "python3"
  },
  "language_info": {
   "codemirror_mode": {
    "name": "ipython",
    "version": 3
   },
   "file_extension": ".py",
   "mimetype": "text/x-python",
   "name": "python",
   "nbconvert_exporter": "python",
   "pygments_lexer": "ipython3",
   "version": "3.11.7"
  }
 },
 "nbformat": 4,
 "nbformat_minor": 5
}
