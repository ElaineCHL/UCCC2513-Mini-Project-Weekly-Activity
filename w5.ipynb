{
 "cells": [
  {
   "cell_type": "code",
   "execution_count": 63,
   "id": "d93706f3-7aad-4905-aa95-5dd518f81fe5",
   "metadata": {},
   "outputs": [],
   "source": [
    "import numpy as np\n",
    "import cv2 as cv\n",
    "from utils import display_image, display_images"
   ]
  },
  {
   "cell_type": "code",
   "execution_count": 65,
   "id": "58ca2aa6-03d4-4237-9713-b9b1de387365",
   "metadata": {},
   "outputs": [],
   "source": [
    "# question 1\n",
    "def rotate_image(array, angle):\n",
    "    height, width = array.shape[:2]\n",
    "    centerX = width // 2\n",
    "    centerY = height // 2\n",
    "   \n",
    "    rotation_mat = cv.getRotationMatrix2D((centerX, centerY), angle, 1)\n",
    "   \n",
    "    sin = rotation_mat[0,1]\n",
    "    cos = rotation_mat[0,0]\n",
    "    bound_w = int((height * abs(sin)) + (width * abs(cos)))\n",
    "    bound_h = int((height * abs(cos)) + (width * abs(sin)))\n",
    "   \n",
    "    rotation_mat[0, 2] += (bound_w / 2) - centerX\n",
    "    rotation_mat[1, 2] += (bound_h / 2) - centerY\n",
    "   \n",
    "    rotated_mat = cv.warpAffine(array, rotation_mat, (bound_w, bound_h))\n",
    "    return rotated_mat"
   ]
  },
  {
   "cell_type": "code",
   "execution_count": 67,
   "id": "df0593c2-5837-4104-9fa3-162b803897de",
   "metadata": {},
   "outputs": [],
   "source": [
    "img = cv.imread(\"images/dog.jfif\")\n",
    "img_copy = rotate_image(img, 45)\n",
    "display_image(\"img\", img_copy)"
   ]
  },
  {
   "cell_type": "code",
   "execution_count": 69,
   "id": "27ddd11b-9905-448d-acd3-7af73b18c2a9",
   "metadata": {},
   "outputs": [],
   "source": [
    "# question 2\n",
    "img1 = cv.imread('images/native-bee.png')\n",
    "img2 = cv.imread('images/flower.jfif')\n",
    "\n",
    "rows, cols, channels = img2.shape\n",
    "roi = img1[:rows, :cols]\n",
    "\n",
    "# create a mask of logo and create its inverse mask\n",
    "img2gray = cv.cvtColor(img2,cv.COLOR_BGR2GRAY)\n",
    "ret, mask = cv.threshold(img2gray, 80, 255, cv.THRESH_BINARY)\n",
    "mask_inv = cv.bitwise_not(mask)\n",
    "\n",
    "img1_bg = cv.bitwise_and(roi,roi,mask = mask_inv)\n",
    "\n",
    "# Take only region of logo from logo image.\n",
    "img2_fg = cv.bitwise_and(img2,img2,mask = mask)\n",
    "\n",
    "# Put logo in ROI and modify the main image\n",
    "dst = cv.add(img1_bg,img2_fg)\n",
    "img1[0:rows, 0:cols ] = dst\n",
    "\n",
    "display_image(\"img1\", img1)"
   ]
  },
  {
   "cell_type": "code",
   "execution_count": 71,
   "id": "457ccc23-eb57-4d19-8e8e-0be3eb9519b6",
   "metadata": {},
   "outputs": [],
   "source": [
    "# question 3\n",
    "def random_center_crop(image, min_crop_ratio, max_crop_ratio):\n",
    "    \"\"\"\n",
    "    crop out the center of the image with a specified random ratio range\n",
    "\n",
    "    Argument: \n",
    "    ---\n",
    "    img: source image (uint8 array)\n",
    "    min_crop_ratio: fraction [0.5, 0.95]\n",
    "    max_crop_ratio: fraction [0.5, 0.95]\n",
    "    \n",
    "    Return:\n",
    "    ---\n",
    "    Cropped image\n",
    "    \"\"\"\n",
    "    \n",
    "    h, w = image.shape[:2]\n",
    "    center_y, center_x = h // 2, w // 2\n",
    "    \n",
    "    crop_ratio = np.random.uniform(min_crop_ratio, max_crop_ratio)\n",
    "    new_h = int(h * crop_ratio)\n",
    "    new_w = int(w * crop_ratio)\n",
    "    new_img = image[center_y - new_h // 2: new_h, center_x - new_w // 2: new_w]\n",
    "    return new_img"
   ]
  },
  {
   "cell_type": "code",
   "execution_count": 73,
   "id": "221c97cf-c640-49fc-876d-ed82688502c5",
   "metadata": {},
   "outputs": [],
   "source": [
    "img = cv.imread(\"images/dog.jfif\")\n",
    "img_cropped = random_center_crop(img, 0.8, 0.8)\n",
    "display_images((img, img_cropped), (\"original\", \"cropped\"))"
   ]
  },
  {
   "cell_type": "code",
   "execution_count": 75,
   "id": "cfd301df-81ec-48ad-8ca9-c765852d0632",
   "metadata": {},
   "outputs": [],
   "source": [
    "# quesiton 4\n",
    "# salt and pepper noise\n",
    "\n",
    "img = cv.imread(\"images/car.jpg\")\n",
    "img_copy = img.copy()\n",
    "row, col = img_copy.shape[:2]\n",
    "\n",
    "# Randomly pick some pixels in the \n",
    "# image for coloring them white \n",
    "# Pick a random number between 300 and 10000 \n",
    "number_of_pixels = np.random.randint(20000, 35000) \n",
    "for i in range(number_of_pixels): \n",
    "        \n",
    "    # Pick a random y coordinate \n",
    "    y = np.random.randint(0, row - 1) \n",
    "          \n",
    "    # Pick a random x coordinate \n",
    "    x = np.random.randint(0, col - 1) \n",
    "          \n",
    "    # Color that pixel to black \n",
    "    img_copy[y][x] = 0\n",
    "\n",
    "number_of_pixels = np.random.randint(20000, 35000) \n",
    "for j in range(number_of_pixels):\n",
    "    y = np.random.randint(0, row - 1)\n",
    "    x = np.random.randint(0, col - 1)\n",
    "    img_copy[y][x] = 255\n",
    "    \n",
    "display_images((img, img_copy), [\"original\", \"noise image\"])"
   ]
  }
 ],
 "metadata": {
  "kernelspec": {
   "display_name": "Python 3 (ipykernel)",
   "language": "python",
   "name": "python3"
  },
  "language_info": {
   "codemirror_mode": {
    "name": "ipython",
    "version": 3
   },
   "file_extension": ".py",
   "mimetype": "text/x-python",
   "name": "python",
   "nbconvert_exporter": "python",
   "pygments_lexer": "ipython3",
   "version": "3.11.7"
  }
 },
 "nbformat": 4,
 "nbformat_minor": 5
}
